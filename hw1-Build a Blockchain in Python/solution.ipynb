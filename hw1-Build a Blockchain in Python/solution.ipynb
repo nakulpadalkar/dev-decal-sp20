{
 "cells": [
  {
   "cell_type": "markdown",
   "metadata": {},
   "source": [
    "# Build a Blockchain! - Blockchain Design Exercises"
   ]
  },
  {
   "cell_type": "markdown",
   "metadata": {},
   "source": [
    "This notebook is meant to be a short introduction to BlockChain implementations, aimed at helping us take the topics we learn about in fundamentals, and seeing how they translate to code. \n",
    "\n",
    "In this notebook we will implement various different aspects of BlockChain technology that we understand including: \n",
    "- The Blockchain Data Structure using OOP \n",
    "- A proof of work simulation \n",
    "- Understanding of the concpt of difficulty of finding the next block hash \n",
    "- A simulation of multiple miners with varying computational powers \n",
    "- A bit of data analytics to see if what we've implemented makes sense "
   ]
  },
  {
   "cell_type": "code",
   "execution_count": 1,
   "metadata": {},
   "outputs": [],
   "source": [
    "#Import statements\n",
    "import hashlib as hasher \n",
    "import random as rand\n",
    "import time \n",
    "import datetime as date\n",
    "import ipyparallel as ipp\n",
    "import numpy as np\n",
    "import matplotlib.pyplot as plt"
   ]
  },
  {
   "cell_type": "markdown",
   "metadata": {},
   "source": [
    "# Blockchain Data Structure Design"
   ]
  },
  {
   "cell_type": "markdown",
   "metadata": {},
   "source": [
    "In this section we will define the class \"Block\" and create an init function that creates a new block given some parameters, as well as a function hash_block, that computes the hash of this block based on its class variables. \n",
    "\n",
    "The init function is implemented for you below and creates a block with the following specifications \n",
    "- Index --> the index of the block on the chain (zero indexed)\n",
    "- Timestamp --> time that the block was added on to the chain\n",
    "- data --> The data the block contains (Usually points to root of merkel tree, but we can fill it with whatever for this)\n",
    "- previous_hash --> The hash value of the previous block \n",
    "- hash --> hash of this block computed using the hash_block function\n",
    "- nonce --> the variable value that we change to alter the hash output (Default value = 0, irrelevant in this section)\n",
    "\n",
    "****QUESTION #1: Implement hash_block()****\n",
    "\n",
    "We need to implement the hash_block() which computes the hash value of this block based on how we initialize it. This function takes in no parameters. \n",
    "\n",
    "Desired Functionality:\n",
    "- Concatenate string representations of all the class variables \n",
    "- Computes the SHA256 hash of this concatenation \n",
    "\n",
    "-- HINTS --\n",
    "\n",
    "- use the first import statement!!! \n",
    "- initialize a new hasher\n",
    "- Look into the following words \n",
    "    - utf-8 encoding \n",
    "    - .update() function \n",
    "    - .hexdigest() function\n",
    "    - In order for the test function below to work properly, create the string concatenation in the following order with no spaces or any other characters in between \n",
    "       - index\n",
    "       - timestamp\n",
    "       - data\n",
    "       - previous block hash\n",
    "       - nonce\n",
    "     - If you want to do it another order that incorporates everything thats totally fine, but test function wont work!\n",
    "\n",
    "**Do not spend too long on this, if its taking too long, shoot me a message and ask for the solutions and move forward**"
   ]
  },
  {
   "cell_type": "markdown",
   "metadata": {},
   "source": []
  },
  {
   "cell_type": "code",
   "execution_count": 2,
   "metadata": {},
   "outputs": [],
   "source": [
    "class Block:\n",
    "    def __init__(self, index, timestamp, data, previous_hash, nonce=0):\n",
    "        self.index = index\n",
    "        self.timestamp = timestamp\n",
    "        self.data = data\n",
    "        self.nonce = nonce #set to zero as default not applicable in first section \n",
    "        self.previous_hash = previous_hash\n",
    "        self.hash = self.hash_block()\n",
    "\n",
    "    def hash_block(self):\n",
    "        #Your code for QUESTION 1 Here \n",
    "        \n",
    "        sha = hasher.sha256()\n",
    "        block_hash = (str(self.index) + \n",
    "                      str(self.timestamp) + \n",
    "                      str(self.data) + \n",
    "                      str(self.previous_hash) + \n",
    "                      str(self.nonce))\n",
    "        block_hash = block_hash.encode('utf-8')\n",
    "        sha.update(block_hash)\n",
    "        return sha.hexdigest()\n"
   ]
  },
  {
   "cell_type": "markdown",
   "metadata": {},
   "source": [
    "**TEST YOUR QUESTION 1 CODE HERE**\n",
    "\n",
    "Run the block of code below"
   ]
  },
  {
   "cell_type": "code",
   "execution_count": 3,
   "metadata": {},
   "outputs": [
    {
     "name": "stdout",
     "output_type": "stream",
     "text": [
      "PASSED!!! Move on to next Question\n"
     ]
    }
   ],
   "source": [
    "def test_question_1(index, block_time, data, previous_hash):\n",
    "    new_block = Block(index, block_time, data, previous_hash)\n",
    "    check_string = '2def27922fc1c67254a9cdb0c660b91abf9b135ad38fc13c7c77007448b824a0'\n",
    "    print_statement = \"PASSED!!! Move on to next Question\" if str(new_block.hash) == check_string else \"FAILED!!! Try Again\"\n",
    "    print(print_statement)\n",
    "    \n",
    "block_time = '2019-10-17 00:37:35.256774'\n",
    "data = 'Machine Learning Blockchain AI'\n",
    "previous_hash = '6ffd1464f68ef4aeb385d399244efa19293ba5c842c464a82c02f8256ef71428'\n",
    "index = 0\n",
    "    \n",
    "test_question_1(index, block_time, data, previous_hash)"
   ]
  },
  {
   "cell_type": "markdown",
   "metadata": {},
   "source": [
    "**Functions for Building the Chain**\n",
    "\n",
    "Now that we have our class Block completed, lets figure out how to make a chain out of them. For a chain, we need to first have a function that creates a genesis block, which serves as the first block of our chain, and then create the function next_block() which builds a new block on top of a given block.\n",
    "\n",
    "create_genesis_block() has been implemented for you. It creates a block with the following specifications. \n",
    "- index = 0\n",
    "- timestamp = Now (whenever the function is being called) \n",
    "- data = \"Genesis Block\"\n",
    "- previous_hash = \"0\"\n",
    "\n",
    "**QUESTION #2: Implement next_block()**\n",
    "\n",
    "We need to implement the function next_block() which takes in 1 parameter:\n",
    "- Last_block = an instance of class Block that is the block that we're building our next block on top of \n",
    "- nonce = Dont do anything with this right now - just pass it in to the Block that you create using the default \n",
    "\n",
    "We want to implement the function so that it returns a new instance of the class Block with the following specifications\n",
    "- index = index of last_block + 1\n",
    "- timestamp = Now (whenever the function is being called)\n",
    "- data = \"Hey! I'm block {index}\"  (for example block w/ index 5 would have data: \"Hey! I'm block 5\")\n",
    "- previous_hash = hash of last_block"
   ]
  },
  {
   "cell_type": "code",
   "execution_count": 4,
   "metadata": {},
   "outputs": [],
   "source": [
    "#Creates the first block with current time and generic data\n",
    "def create_genesis_block():\n",
    "    # Manually construct a block with\n",
    "    # index zero and arbitrary previous hash\n",
    "    return Block(0, date.datetime.now(), \"Genesis Block\", \"0\")\n",
    "\n",
    "#Function that creates the next block, given the last block on the chain you want to mine on\n",
    "def next_block(last_block, nonce=0):\n",
    "    #Your code for QUESTION 2 here\n",
    "    \n",
    "    this_index = last_block.index + 1\n",
    "    this_timestamp = date.datetime.now()\n",
    "    this_data = \"Hey! I'm block \" + str(this_index)\n",
    "    this_prevhash = last_block.hash\n",
    "    return Block(this_index, this_timestamp, this_data, this_prevhash)\n",
    "    "
   ]
  },
  {
   "cell_type": "markdown",
   "metadata": {},
   "source": [
    "**TEST YOUR QUESTION 2 CODE HERE**\n",
    "\n",
    "Run the block of code below"
   ]
  },
  {
   "cell_type": "code",
   "execution_count": 5,
   "metadata": {},
   "outputs": [
    {
     "name": "stdout",
     "output_type": "stream",
     "text": [
      "PASSED!!! Move on to next part\n"
     ]
    }
   ],
   "source": [
    "def test_question_2(genesis_block):\n",
    "    block_1 = next_block(genesis_block)\n",
    "    if block_1.index == 1 and block_1.data == \"Hey! I'm block 1\" and block_1.previous_hash == genesis_block.hash and str(type(block_1.timestamp)) == \"<class 'datetime.datetime'>\":\n",
    "        print(\"PASSED!!! Move on to next part\" )\n",
    "    else:\n",
    "        print(\"FAILED!!! Try again :(\")\n",
    "    \n",
    "\n",
    "genesis_block = create_genesis_block()\n",
    "test_question_2(genesis_block)"
   ]
  },
  {
   "cell_type": "markdown",
   "metadata": {},
   "source": [
    "**Spinning up a Chain**\n",
    "\n",
    "Now that we've created the data structure as well as the functions needed to create the chain, lets see how spinning up an actual instance of this would work. \n",
    "\n",
    "Below we initialize three different variables \n",
    "- blockchain - this is a python list which we initialize with one block inside (the genesis block) \n",
    "- previous_block - this points to our genesis block (since it references the first element in blockchain)\n",
    "- num_blocks - this specifies the number of additional blocks we want to add to our chain \n",
    "\n",
    "**QUESTION 3 complete_chain()**\n",
    "\n",
    "We want to complete the implementation of the function complete_chain(). This function takes in three inputs, which correspond to the initializations that we made. It returns nothing, however by the time we are done running it, the list 'blockchain' that we initialized earlier has been turned into an array of length num_blocks + 1 in which each element is an instance of class Block and each element's self.previous_hash == the previous element's self.hash. Therefore we have created our own mini blockchain!! \n",
    "\n",
    "The for loop and the print statements of complete_chain have been implemented for you, you need to add the statements that ***create a new block on top of previous_block, add it to the block chain, and edit previous block so that the for loop can continue correctly*** \n",
    "\n",
    "****HINT **** --> Literally just do all the things I listed in the section immediately above in order \n",
    "\n",
    "If it works out, you should get the same number of print statements as num_blocks"
   ]
  },
  {
   "cell_type": "code",
   "execution_count": 6,
   "metadata": {},
   "outputs": [
    {
     "name": "stdout",
     "output_type": "stream",
     "text": [
      "Block #1 has been added to the blockchain!\n",
      "Hash: a259768e2224309375ddfb169dd0cfed1beeeec8dbf3bcbc02638d99ec68aeb6\n",
      "\n",
      "Block #2 has been added to the blockchain!\n",
      "Hash: 38310d00ced287df15f2328028850a369e330a0344edd1eb72ad568670cbe0be\n",
      "\n",
      "Block #3 has been added to the blockchain!\n",
      "Hash: 188fe66668bfb41b7e0b09c621ead5d5d8c8b5daa5ed7a9ff0cdca980ff54ea8\n",
      "\n",
      "Block #4 has been added to the blockchain!\n",
      "Hash: ba4ad9095d4f0b200c276bc944c5866a894d7a1f54c465090bb09bcab77795d9\n",
      "\n",
      "Block #5 has been added to the blockchain!\n",
      "Hash: c7be1da4f36e695187f8cd316b01aeb11175dfc98e42665539d767d6bd594f73\n",
      "\n",
      "Block #6 has been added to the blockchain!\n",
      "Hash: 8b66d9ac715eb91618054d811879b43ac811629fa62c6af584930c79c2c9dbbe\n",
      "\n",
      "Block #7 has been added to the blockchain!\n",
      "Hash: 1268c160b08891f581df432e8bcc8d26d8a17b7e22255975810cd07e8f9022df\n",
      "\n",
      "Block #8 has been added to the blockchain!\n",
      "Hash: 78717b7c640976b89850725002f5ac7450622732a69118041174417ef5d70513\n",
      "\n",
      "Block #9 has been added to the blockchain!\n",
      "Hash: 3ebe2912520fd2b90766763dfb56f83028069ba18325bffc7981b5856d47928f\n",
      "\n",
      "Block #10 has been added to the blockchain!\n",
      "Hash: 2f4c74741d568acc37b59bb80919080749577231cb1887164b190b1500b62729\n",
      "\n",
      "Block #11 has been added to the blockchain!\n",
      "Hash: 87ac25b645f9d2f00d6eaca704b0417c9a4ba21d7029da55cdeeef4dc245e31d\n",
      "\n",
      "Block #12 has been added to the blockchain!\n",
      "Hash: 03ed4a6114571566b967c11fa94ef6353b010d8ec608a5b336c8e9786eebdf5c\n",
      "\n",
      "Block #13 has been added to the blockchain!\n",
      "Hash: fd1e1ba6faa1962813603be0d0a93503cc608f929d65aad14a23f1d96b02c2c0\n",
      "\n",
      "Block #14 has been added to the blockchain!\n",
      "Hash: 3187d54d923e79714efb464cc4e308efe6798b1d9221d280da7a0957c440cef5\n",
      "\n",
      "Block #15 has been added to the blockchain!\n",
      "Hash: c18d4c6f0d01ad4a519035e18b84a84e28df8128a01cbed88f6786ba062ef069\n",
      "\n",
      "Block #16 has been added to the blockchain!\n",
      "Hash: a8bca368ceaab036a59d3d8d70769df62c7d30cb141555b5fd5796257f7c0199\n",
      "\n",
      "Block #17 has been added to the blockchain!\n",
      "Hash: 845f26a405028a1179648ab04c5d059127a53b3e2ce6295b2362b681b1b8e841\n",
      "\n",
      "Block #18 has been added to the blockchain!\n",
      "Hash: 73d3cfcda510b964ecf3b7fe79b94d02cee6b70cea79f4c75add4977f5f106e9\n",
      "\n",
      "Block #19 has been added to the blockchain!\n",
      "Hash: a146464e932d4bb3100c1b23ed75f23a7a7a276ad2c6d0d7f438476a43448e03\n",
      "\n",
      "Block #20 has been added to the blockchain!\n",
      "Hash: 0d164dc15c0ed0a9c8573c33c63ae330856c8b7cfcde34bacb194f2424358e38\n",
      "\n"
     ]
    }
   ],
   "source": [
    "# Create the blockchain and add the genesis block\n",
    "blockchain = [create_genesis_block()]\n",
    "\n",
    "#Create our initial reference to previous block which points to the genesis block\n",
    "previous_block = blockchain[0]\n",
    "\n",
    "# How many blocks should we add to the chain after the genesis block\n",
    "num_blocks = 20\n",
    "\n",
    "def complete_chain(num_blocks, blockchain, previous_block):\n",
    "    # Add blocks to the chain\n",
    "    for i in range(0, num_blocks):\n",
    "        \n",
    "        #Your code for QUESTION 3 Here \n",
    "        block_to_add = next_block(previous_block)\n",
    "        blockchain.append(block_to_add)\n",
    "        previous_block = block_to_add\n",
    "        \n",
    "        #Your code for QUESTION 3 ends Here\n",
    "        # Tell everyone about it!\n",
    "        print(\"Block #{} has been added to the blockchain!\".format(block_to_add.index))\n",
    "        print(\"Hash: {}\\n\".format(block_to_add.hash))\n",
    "\n",
    "complete_chain(num_blocks, blockchain, previous_block)"
   ]
  },
  {
   "cell_type": "markdown",
   "metadata": {},
   "source": [
    "**TEST YOUR QUESTION 3 CODE HERE**\n",
    "\n",
    "Run the block of code below"
   ]
  },
  {
   "cell_type": "code",
   "execution_count": 7,
   "metadata": {},
   "outputs": [
    {
     "name": "stdout",
     "output_type": "stream",
     "text": [
      "PASSED!!! Move on to the next Part\n"
     ]
    }
   ],
   "source": [
    "def test_question_3(blockchain, num_blocks):\n",
    "    correct = True\n",
    "    if len(blockchain) != num_blocks + 1:\n",
    "        correct = False\n",
    "    for i in range(len(blockchain)-1):\n",
    "        if blockchain[i + 1].previous_hash != blockchain[i].hash:\n",
    "            correct = False\n",
    "            break\n",
    "    print_statement = \"PASSED!!! Move on to the next Part\" if correct else \"FAILED!!! Try Again :(\"\n",
    "    print(print_statement)\n",
    "\n",
    "test_question_3(blockchain, num_blocks)"
   ]
  },
  {
   "cell_type": "markdown",
   "metadata": {},
   "source": [
    "# Proof of Work Simulation"
   ]
  },
  {
   "cell_type": "markdown",
   "metadata": {},
   "source": [
    "In this section we will be doing a simulation of the proof-of-work consensus mechanism that the Bitcoin Blockchain (among others) uses. Let us define some of the concepts that we will be dealing with in this section. \n",
    "\n",
    "**The Nonce** --> Randomly generated value that we add to our concatenation of our block to add variance to our hashes\n",
    "**Difficulty** --> Specified by the network (in theory, here it is specified by us). Defines the number of hashes that are valid out of all possible values. Higher difficulty indicates a lower number of valid hashes. \n",
    "\n",
    "**QUESTION 4: generate_nonce(), generate_difficulty_bound(), find_next_block()**\n",
    "\n",
    "**Part 1 - Description** \n",
    "\n",
    "The functions **generate_nonce()** and **generate_difficulty_bound()** have been implemented below for you. The first part of this question involves reading through, them understanding them completely, and writing a quick 1 - 2 line summary of what they are supposed to do and how they are implemented (write it in the space given, 2 cells below).\n",
    "\n",
    "**Part 2 - Implementation**\n",
    "\n",
    "The second part of this question is to complete the implementation of find_next_block(). This function's purpose is to try different blocks with the same data, index etc. but different nonces that satisfy the difficulty metric specified. The difficulty bound has already been generated for you and the first block has been created. You have to complete the implementation so that: \n",
    "- You find a nonce such that the hash of the block is less than the difficulty bound. \n",
    "- All data from new block has to be the same (including the timestamp, for simplicity purposes) and the only thing changing is the nonce \n",
    "- For our learning purposes, increment the hashes_tried parameter appropriately everytime you try a hash so that we can see the number of hashes tried and how this correlates to our difficulty value. \n",
    "\n",
    "**HINTS**\n",
    "- How do you turn a hash string into its hex prepresentation that you can compare???\n",
    "- if your implementation is working, you should notice something interesting about all the hashes of the blocks that you are getting when you run the code cell labeled \"Create Proof of work Blockchain\"**\n",
    "\n",
    "\n",
    "\n",
    "**you can test question 4 in the a few cells below this one, after running all the cells in between**"
   ]
  },
  {
   "cell_type": "code",
   "execution_count": 8,
   "metadata": {},
   "outputs": [],
   "source": [
    "def generate_nonce(length=20):\n",
    "    return ''.join([str(rand.randint(0, 9)) for i in range(length)])\n",
    "\n",
    "def generate_difficulty_bound(difficulty=1):\n",
    "    diff_str = \"\"\n",
    "    for i in range(difficulty):\n",
    "        diff_str += '0'\n",
    "    for i in range(64 - difficulty):\n",
    "        diff_str += 'F'\n",
    "    diff_str = \"0x\" + diff_str  # \"0x\" needs to be added at the front to specify that it is a hex representation\n",
    "    return(int(diff_str, 16))  # Specifies that we want to create an integer of base 16 (as opposed to the default  base 10)\n",
    "\n",
    "#Given a previous block and a difficulty metric, finds a nonce that results in a lower hash value\n",
    "def find_next_block(last_block, difficulty, nonce_length):\n",
    "    difficulty_bound = generate_difficulty_bound(difficulty)\n",
    "    start = time.process_time() \n",
    "    new_block = next_block(last_block)\n",
    "    hashes_tried = 1 \n",
    "    #Your code for QUESTION 4 Starts here \n",
    "    while int(new_block.hash, 16) > difficulty_bound:\n",
    "        nonce = generate_nonce(nonce_length)\n",
    "        new_block = Block(new_block.index, new_block.timestamp, new_block.data, new_block.previous_hash, nonce)\n",
    "        hashes_tried += 1 \n",
    "    #Your code for QUESTION 4 Ends here \n",
    "    time_taken = time.process_time() - start\n",
    "    return(time_taken, hashes_tried, new_block)"
   ]
  },
  {
   "cell_type": "markdown",
   "metadata": {},
   "source": [
    "**QUESTION 4 Description Section**\n",
    "\n",
    "Describe the following functions: \n",
    "\n",
    "- generate_nonce():         ######Your Description Here######\n",
    "\n",
    "- generate_difficulty_bound():        ######Your Description Here######"
   ]
  },
  {
   "cell_type": "markdown",
   "metadata": {},
   "source": [
    "The cell below creates our proof of work blockchain in a similar way that we do in the earlier section. \n",
    "\n",
    "Some initializations:\n",
    "- blockchain_pow: Our new python list that signifies our proof of work blockchain, with the genesis block inside\n",
    "- previous_block: The first block to use as previous block to build upon\n",
    "- num_blocks: number of additional blocks to add to teh chain\n",
    "- difficulty: difficulty of the network \n",
    "- nonce_length: length of the randomly generated nonce"
   ]
  },
  {
   "cell_type": "markdown",
   "metadata": {},
   "source": [
    "### Create Proof of Work Blockchain "
   ]
  },
  {
   "cell_type": "code",
   "execution_count": 9,
   "metadata": {},
   "outputs": [
    {
     "name": "stdout",
     "output_type": "stream",
     "text": [
      "Block #1 has been added to the blockchain!\n",
      "2563 Hashes Tried!\n",
      "Time taken to find block: 0.046875\n",
      "Hash: 000f7b5daa4193278cd1a8015ae9c12d8fe71da695c624649521a9c31b10f819\n",
      "\n",
      "Block #2 has been added to the blockchain!\n",
      "2963 Hashes Tried!\n",
      "Time taken to find block: 0.0625\n",
      "Hash: 0008e58941eb07e38c4fe7731650a3fa4a5bbc05d19394e63aacd610aeaab737\n",
      "\n",
      "Block #3 has been added to the blockchain!\n",
      "5331 Hashes Tried!\n",
      "Time taken to find block: 0.09375\n",
      "Hash: 0006eb7528f4030c8823fae3d134c31367154b9679a8a90425b6c29293ae9b47\n",
      "\n",
      "Block #4 has been added to the blockchain!\n",
      "5417 Hashes Tried!\n",
      "Time taken to find block: 0.09375\n",
      "Hash: 000d6a49540c3302c74e3e4ff53848428306b37a7e38377c24d2a2b28583605d\n",
      "\n",
      "Block #5 has been added to the blockchain!\n",
      "9115 Hashes Tried!\n",
      "Time taken to find block: 0.15625\n",
      "Hash: 00068264c196b54dfbe970d222a408561c2333062a619a77644d3280f0635102\n",
      "\n",
      "Block #6 has been added to the blockchain!\n",
      "1746 Hashes Tried!\n",
      "Time taken to find block: 0.03125\n",
      "Hash: 00069da9c7e868c49a626b96c43d069ac223642c914a73d1d6c74b6e55f8bb90\n",
      "\n",
      "Block #7 has been added to the blockchain!\n",
      "3061 Hashes Tried!\n",
      "Time taken to find block: 0.0625\n",
      "Hash: 0006b768c22ef5f59147b4608dbd0374195e05cf61b920fee23f83e5d057e8fb\n",
      "\n",
      "Block #8 has been added to the blockchain!\n",
      "1474 Hashes Tried!\n",
      "Time taken to find block: 0.03125\n",
      "Hash: 000f98cdb9a05cd824264cfddb77133e093d14c56946332e1cfed29862d21b92\n",
      "\n",
      "Block #9 has been added to the blockchain!\n",
      "122 Hashes Tried!\n",
      "Time taken to find block: 0.0\n",
      "Hash: 00074da13d0e7bd52e22ed2965717df915815a57a152c5ef40a44a2c483396ab\n",
      "\n",
      "Block #10 has been added to the blockchain!\n",
      "8033 Hashes Tried!\n",
      "Time taken to find block: 0.140625\n",
      "Hash: 0007c6e35968e5cadb87bc5c8173e67581340e86a5a232e4be6fc1a66ba49cfa\n",
      "\n",
      "Block #11 has been added to the blockchain!\n",
      "3806 Hashes Tried!\n",
      "Time taken to find block: 0.0625\n",
      "Hash: 000644713ae95de144e33b904b34e2824214629f1c6bed74de9089c6e4db6e3e\n",
      "\n",
      "Block #12 has been added to the blockchain!\n",
      "1446 Hashes Tried!\n",
      "Time taken to find block: 0.03125\n",
      "Hash: 000cdc68dc6522d6e3f25fc56f0f9af184de7877a5c54040d5fc55e24790ff5d\n",
      "\n",
      "Block #13 has been added to the blockchain!\n",
      "423 Hashes Tried!\n",
      "Time taken to find block: 0.0\n",
      "Hash: 0002efe95cabb5afa39b8953093652a10f16374397a584b2c4fdd18aac7c6adb\n",
      "\n",
      "Block #14 has been added to the blockchain!\n",
      "6047 Hashes Tried!\n",
      "Time taken to find block: 0.09375\n",
      "Hash: 000b89ebf9d27b1ce30af7a74f6029f455ed8e6b0f8a419b18be5a3c4135f2f7\n",
      "\n",
      "Block #15 has been added to the blockchain!\n",
      "213 Hashes Tried!\n",
      "Time taken to find block: 0.0\n",
      "Hash: 0009a7240cc07f17dd880d2a0802fd7f0eeda05cfd6584d24835e09c0bf01462\n",
      "\n",
      "Block #16 has been added to the blockchain!\n",
      "2885 Hashes Tried!\n",
      "Time taken to find block: 0.046875\n",
      "Hash: 0007f82537cb3c3a78475b27b0b8c8bd489a64972ce43b6a1af8dfd72a91289e\n",
      "\n",
      "Block #17 has been added to the blockchain!\n",
      "4903 Hashes Tried!\n",
      "Time taken to find block: 0.09375\n",
      "Hash: 000d824e642482ccf45d222e1d03fca76720cf46890c30df2b8b6890d170d6f5\n",
      "\n",
      "Block #18 has been added to the blockchain!\n",
      "704 Hashes Tried!\n",
      "Time taken to find block: 0.0\n",
      "Hash: 00022286962bc63c2a637bd38cd748384fdb0dff21f3d57382179755696adfd9\n",
      "\n",
      "Block #19 has been added to the blockchain!\n",
      "7629 Hashes Tried!\n",
      "Time taken to find block: 0.140625\n",
      "Hash: 00009bfb2131372bd2e418a8fdc4111097b34398beb9875df4f227864d066197\n",
      "\n",
      "Block #20 has been added to the blockchain!\n",
      "1020 Hashes Tried!\n",
      "Time taken to find block: 0.015625\n",
      "Hash: 00051c38b68e90471621f2324f58d3812c54d8d388598e25aadf703aa2cbc87a\n",
      "\n"
     ]
    }
   ],
   "source": [
    "# Create the blockchain and add the genesis block\n",
    "blockchain_pow = [create_genesis_block()]\n",
    "\n",
    "#Create our initial reference to previous block which points to the genesis block\n",
    "previous_block = blockchain_pow[0]\n",
    "\n",
    "# How many blocks should we add to the chain after genesis block\n",
    "num_blocks = 20\n",
    "\n",
    "#magnitude of difficulty of hash - number of zeroes that must be in the beginning of the hash\n",
    "difficulty = 3\n",
    "\n",
    "#length of nonce that will be generated and added\n",
    "nonce_length = 20\n",
    "\n",
    "# Add blocks to the chain based on difficulty with nonces of length nonce_length\n",
    "def create_pow_blockchain(num_blocks, difficulty, blockchain_pow, previous_block, nonce_length, print_data=1):\n",
    "    hash_array = []\n",
    "    time_array = []\n",
    "    for i in range(0, num_blocks):\n",
    "        time_taken, hashes_tried, block_to_add = find_next_block(previous_block, difficulty, nonce_length)\n",
    "        blockchain_pow.append(block_to_add)\n",
    "        previous_block = block_to_add\n",
    "        hash_array.append(hashes_tried)\n",
    "        time_array.append(time_taken)\n",
    "        # Tell everyone about it!\n",
    "        if print_data:\n",
    "            print(\"Block #{} has been added to the blockchain!\".format(block_to_add.index))\n",
    "            print(\"{} Hashes Tried!\".format(hashes_tried))\n",
    "            print(\"Time taken to find block: {}\".format(time_taken))\n",
    "            print(\"Hash: {}\\n\".format(block_to_add.hash))\n",
    "    return(hash_array, time_array)\n",
    "\n",
    "hash_array, time_array = create_pow_blockchain(num_blocks, difficulty, blockchain_pow, previous_block, nonce_length)"
   ]
  },
  {
   "cell_type": "markdown",
   "metadata": {},
   "source": [
    "**TEST YOUR QUESTION 4 CODE HERE**\n",
    "\n",
    "Run the block of code below"
   ]
  },
  {
   "cell_type": "code",
   "execution_count": 10,
   "metadata": {},
   "outputs": [
    {
     "name": "stdout",
     "output_type": "stream",
     "text": [
      "PASSED!!! Move on to the next Part\n"
     ]
    }
   ],
   "source": [
    "def test_question_4(blockchain_pow, num_blocks):\n",
    "    correct = True\n",
    "    bound = generate_difficulty_bound(difficulty)\n",
    "    if len(blockchain_pow) != num_blocks + 1:\n",
    "        correct = False\n",
    "    for i in range(len(blockchain_pow) - 1):\n",
    "        if blockchain_pow[i + 1].previous_hash != blockchain_pow[i].hash:\n",
    "            correct = False\n",
    "            break\n",
    "        if int(blockchain_pow[i + 1].hash, 16) > bound:\n",
    "            correct = False\n",
    "            break\n",
    "    print_statement = \"PASSED!!! Move on to the next Part\" if correct else \"FAILED!!! Try Again :(\"\n",
    "    print(print_statement)\n",
    "            \n",
    "test_question_4(blockchain_pow, num_blocks)"
   ]
  },
  {
   "cell_type": "markdown",
   "metadata": {},
   "source": [
    "Once you have passed the above test case, you can do things like play around with the difficulties and nonce lengths and seeing that happens "
   ]
  },
  {
   "cell_type": "markdown",
   "metadata": {},
   "source": [
    "# Distributed Network + Compute Power Simulation"
   ]
  },
  {
   "cell_type": "markdown",
   "metadata": {},
   "source": [
    "In this section, instead of simulating a single node that carries out all the proof of work calculations, we will create a bunch of different nodes that will all compete to find different blocks. These nodes will all have different compute powers that we will be able to specify. Below we will define the MinerNodeNaive class which has an init function to create an instance, as well as a try_hash function that allows it to try a hash and see if it works. "
   ]
  },
  {
   "cell_type": "code",
   "execution_count": 11,
   "metadata": {
    "collapsed": true
   },
   "outputs": [],
   "source": [
    "#Naive miner class that races with other miners to see who can get a certain number of blocks first \n",
    "class MinerNodeNaive: \n",
    "    def __init__(self, name, compute):\n",
    "        self.name = name \n",
    "        self.compute = compute\n",
    "    \n",
    "    def try_hash(self, diff_value, chain):\n",
    "        last_block = chain[-1]\n",
    "        difficulty = generate_difficulty_bound(diff_value)\n",
    "        date_now = date.datetime.now()\n",
    "        this_index = last_block.index + 1\n",
    "        this_timestamp = date_now\n",
    "        this_data = \"Hey! I'm block \" + str(this_index)\n",
    "        this_hash = last_block.hash\n",
    "        new_block = Block(this_index, this_timestamp, this_data, this_hash)\n",
    "        if int(new_block.hash, 16) < difficulty:\n",
    "            chain.append(new_block)\n",
    "            # Tell everyone about it!\n",
    "            print(\"Block #{} has been added to the blockchain!\".format(new_block.index))\n",
    "            print(\"Block found by: {}\".format(self.name))\n",
    "            print(\"Hash: {}\\n\".format(new_block.hash))\n",
    "        "
   ]
  },
  {
   "cell_type": "markdown",
   "metadata": {},
   "source": [
    "**Question #5: Describe the Following Cells**\n",
    "\n",
    "In the next 4 cells I try to simulate a bunch of different miners with different compute powers. However this isn't completely indicative of how a real system works, and is limited by what I had to work with. Read through the code, and run all of the cells and explain what is happening in a paragrpah. Also explain how this is different from real world vanilla proof of work systems and how this simulation isn't completely accurate of what's actually happening while nodes race to find the next block. There is a cell at the bottom where you can enter your description.  "
   ]
  },
  {
   "cell_type": "code",
   "execution_count": 12,
   "metadata": {
    "collapsed": true
   },
   "outputs": [],
   "source": [
    "#Initialize multiple miners on the network \n",
    "berkeley_Miner = MinerNodeNaive(\"Berkeley Miner\", 10)\n",
    "stanford_Miner = MinerNodeNaive(\"Stanford Miner\", 5)\n",
    "MIT_Miner = MinerNodeNaive(\"MIT Miner\", 2)\n",
    "UCLA_Miner = MinerNodeNaive(\"UCLA Miner\", 1)\n",
    "\n",
    "miner_array = [berkeley_Miner, stanford_Miner, MIT_Miner, UCLA_Miner]"
   ]
  },
  {
   "cell_type": "code",
   "execution_count": 13,
   "metadata": {
    "collapsed": true
   },
   "outputs": [],
   "source": [
    "def create_compute_simulation(miner_array):\n",
    "    compute_array = []\n",
    "    for miner in miner_array:\n",
    "        for i in range(miner.compute):\n",
    "            compute_array.append(miner.name)\n",
    "    return(compute_array)\n",
    "\n",
    "compute_simulation_array = create_compute_simulation(miner_array)\n",
    "rand.shuffle(compute_simulation_array)"
   ]
  },
  {
   "cell_type": "code",
   "execution_count": 14,
   "metadata": {
    "collapsed": true
   },
   "outputs": [],
   "source": [
    "chain_length = 20\n",
    "blockchain_distributed = [create_genesis_block()]\n",
    "genesis_block_dist = blockchain_distributed[0]\n",
    "chain_difficulty = [rand.randint(2,4) for i in range(chain_length)]"
   ]
  },
  {
   "cell_type": "code",
   "execution_count": 15,
   "metadata": {},
   "outputs": [
    {
     "name": "stdout",
     "output_type": "stream",
     "text": [
      "Block #1 has been added to the blockchain!\n",
      "Block found by: MIT Miner\n",
      "Hash: 0000225838658bd450c0e31552c63f3844856d4899c00e647d7e3fe7ae92b3c3\n",
      "\n",
      "Block #2 has been added to the blockchain!\n",
      "Block found by: Berkeley Miner\n",
      "Hash: 00fdb8cc808a712a6531f4fd52a3ada78c1fe0f378b295fe2793121ab0b9497e\n",
      "\n",
      "Block #3 has been added to the blockchain!\n",
      "Block found by: Berkeley Miner\n",
      "Hash: 0000b80f7fd359420878942d682a30fefc717c7220c40f484fdaca2d4646dd39\n",
      "\n",
      "Block #4 has been added to the blockchain!\n",
      "Block found by: Berkeley Miner\n",
      "Hash: 000bea54e642317b0dee0810a12aaaaf9c61485fc6e820efb85c79a34376d67a\n",
      "\n",
      "Block #5 has been added to the blockchain!\n",
      "Block found by: Berkeley Miner\n",
      "Hash: 00089b04b989baf9d8785880bbd5303bbaccd0744a8ef002dddeef6fa2be9615\n",
      "\n",
      "Block #6 has been added to the blockchain!\n",
      "Block found by: Berkeley Miner\n",
      "Hash: 000b44336162ab53f30a51df088b0182d9c554e9204a1d35f645dc6dc824c9ec\n",
      "\n",
      "Block #7 has been added to the blockchain!\n",
      "Block found by: MIT Miner\n",
      "Hash: 000243e0535978fd8375d16d4bd36094bda454bbb1a434068b2941f3c2e0a092\n",
      "\n",
      "Block #8 has been added to the blockchain!\n",
      "Block found by: Stanford Miner\n",
      "Hash: 0000e2713e85593c8ba62e5c59c738e791a4386053f79681e1e696735e99ca4b\n",
      "\n",
      "Block #9 has been added to the blockchain!\n",
      "Block found by: MIT Miner\n",
      "Hash: 00be4c7bce8da4b6ae4f68abfaaf7fcecaecb8d8565242888ff28e4af659b1a3\n",
      "\n",
      "Block #10 has been added to the blockchain!\n",
      "Block found by: Berkeley Miner\n",
      "Hash: 0000ba70a9c1e3caa42573bdfe79f334846ac9bcab56234eaaf22cdde48f4d6e\n",
      "\n",
      "Block #11 has been added to the blockchain!\n",
      "Block found by: MIT Miner\n",
      "Hash: 00590159b1a3930b857bf02d3268abf7e2415a9c72198636b342c4962f95d41f\n",
      "\n",
      "Block #12 has been added to the blockchain!\n",
      "Block found by: Stanford Miner\n",
      "Hash: 00ccf1f1987f6b3816f2ad6123a6fe575b617de55ffc628cbd90fe29a341177e\n",
      "\n",
      "Block #13 has been added to the blockchain!\n",
      "Block found by: Berkeley Miner\n",
      "Hash: 007f9d9ab9422e7e6a3c4a0fccc1e05e2d4f547f143cdf0f29d9a476deca39ff\n",
      "\n",
      "Block #14 has been added to the blockchain!\n",
      "Block found by: Stanford Miner\n",
      "Hash: 0008f2dfeec2d6d120db2f328125985e36bafd5c760ab5c7430c1ec787b9e3b7\n",
      "\n",
      "Block #15 has been added to the blockchain!\n",
      "Block found by: MIT Miner\n",
      "Hash: 0004b99c79fe8d4204ec498bf5e5be4824287d7a82c9c20e6fc84b8f376e9192\n",
      "\n",
      "Block #16 has been added to the blockchain!\n",
      "Block found by: Berkeley Miner\n",
      "Hash: 000b862dbdf090429d01404c497d53065aeb6ed9b8d37c1fd528f83ddc2bfdf1\n",
      "\n",
      "Block #17 has been added to the blockchain!\n",
      "Block found by: Stanford Miner\n",
      "Hash: 00b36f4d0cddc33f1724712224f7657b85d56b7bc5a77b6661f08d80a594519e\n",
      "\n",
      "Block #18 has been added to the blockchain!\n",
      "Block found by: Berkeley Miner\n",
      "Hash: 0067207440e27001b70b9ba1b3c4babc4a507c483b10518f6b50f24ea7e55ad3\n",
      "\n",
      "Block #19 has been added to the blockchain!\n",
      "Block found by: Berkeley Miner\n",
      "Hash: 00007001a5c99d5954a45e1cb552d1f9e6b0f392080111f5c02fceed88d9450a\n",
      "\n",
      "Block #20 has been added to the blockchain!\n",
      "Block found by: Berkeley Miner\n",
      "Hash: 0000c3bd3603484d3d68c89df9247e1066c670cd486d7ee98afa96b265e40a2e\n",
      "\n"
     ]
    }
   ],
   "source": [
    "for i in range(len(chain_difficulty)): \n",
    "    while len(blockchain_distributed) < i + 2:\n",
    "        next_miner_str = rand.sample(compute_simulation_array, 1)[0] \n",
    "        next_miner = berkeley_Miner #random default (go bears)\n",
    "        for miner in miner_array:\n",
    "            if next_miner_str == miner.name:\n",
    "                next_miner = miner\n",
    "        next_miner.try_hash(chain_difficulty[i], blockchain_distributed)\n",
    "        "
   ]
  },
  {
   "cell_type": "markdown",
   "metadata": {},
   "source": [
    "**Question 5 Description Here**\n",
    "\n",
    "- Description: **#####Your description here####**"
   ]
  },
  {
   "cell_type": "markdown",
   "metadata": {
    "collapsed": true
   },
   "source": [
    "# Blockchain Data Analytics"
   ]
  },
  {
   "cell_type": "markdown",
   "metadata": {
    "collapsed": true
   },
   "source": [
    "Here we will use data analytics to analyze the number of hashes we need to try before we find a valid hash, given a difficulty level. Look through the code briefly (in depth is not necessary), run all of the cells, and answer the question at the bottom. (difficulty level 3 takes a bit of time so dont be alarmed if this next cell takes a bit of time to run). "
   ]
  },
  {
   "cell_type": "code",
   "execution_count": 16,
   "metadata": {},
   "outputs": [
    {
     "name": "stdout",
     "output_type": "stream",
     "text": [
      "Difficulty Level: 1 complete\n",
      "Difficulty Level: 2 complete\n",
      "Difficulty Level: 3 complete\n",
      "Difficulty Level: 4 complete\n"
     ]
    }
   ],
   "source": [
    "blockchain = [create_genesis_block()]\n",
    "previous_block = blockchain[0]\n",
    "num_blocks = 10\n",
    "\n",
    "#3 different types of difficulty to analyze\n",
    "difficulty_0 = 1\n",
    "difficulty_1 = 2\n",
    "difficulty_2 = 3\n",
    "difficulty_3 = 4\n",
    "\n",
    "nonce_length = 20\n",
    "\n",
    "hash_array_0, time_array_0 = create_pow_blockchain(num_blocks, difficulty_0, blockchain, previous_block, nonce_length, 0)\n",
    "print(\"Difficulty Level: {} complete\".format(difficulty_0))\n",
    "hash_array_1, time_array_1 = create_pow_blockchain(num_blocks, difficulty_1, blockchain, previous_block, nonce_length, 0)\n",
    "print(\"Difficulty Level: {} complete\".format(difficulty_1))\n",
    "hash_array_2, time_array_2 = create_pow_blockchain(num_blocks, difficulty_2, blockchain, previous_block, nonce_length, 0)\n",
    "print(\"Difficulty Level: {} complete\".format(difficulty_2))\n",
    "hash_array_3, time_array_3 = create_pow_blockchain(num_blocks, difficulty_3, blockchain, previous_block, nonce_length, 0)\n",
    "print(\"Difficulty Level: {} complete\".format(difficulty_3))"
   ]
  },
  {
   "cell_type": "code",
   "execution_count": 17,
   "metadata": {
    "collapsed": true
   },
   "outputs": [],
   "source": [
    "mean_arr_hash = [np.mean(hash_array_0), np.mean(hash_array_1), np.mean(hash_array_2), np.mean(hash_array_3)]\n",
    "mean_arr_time = [np.mean(time_array_0), np.mean(time_array_1), np.mean(time_array_2), np.mean(time_array_3)]"
   ]
  },
  {
   "cell_type": "code",
   "execution_count": 18,
   "metadata": {},
   "outputs": [
    {
     "data": {
      "image/png": "[encoded data removed]",
      "text/plain": [
       "<Figure size 432x288 with 1 Axes>"
      ]
     },
     "metadata": {
      "needs_background": "light"
     },
     "output_type": "display_data"
    }
   ],
   "source": [
    "plt.plot(mean_arr_hash)\n",
    "plt.show()"
   ]
  },
  {
   "cell_type": "code",
   "execution_count": 19,
   "metadata": {},
   "outputs": [
    {
     "data": {
      "image/png": "[encoded data removed]",
      "text/plain": [
       "<Figure size 432x288 with 1 Axes>"
      ]
     },
     "metadata": {
      "needs_background": "light"
     },
     "output_type": "display_data"
    }
   ],
   "source": [
    "plt.plot(mean_arr_time)\n",
    "plt.show()"
   ]
  },
  {
   "cell_type": "code",
   "execution_count": 20,
   "metadata": {},
   "outputs": [
    {
     "name": "stdout",
     "output_type": "stream",
     "text": [
      "Factor of difficulty increase from 1 to 2: 25.567010309278352\n",
      "Factor of difficulty increase from 2 to 3: 15.283467741935485\n",
      "Factor of difficulty increase from 3 to 4: 10.896762789225127\n"
     ]
    }
   ],
   "source": [
    "diff_factor_1 = np.mean(hash_array_1)/np.mean(hash_array_0)\n",
    "diff_factor_2 = np.mean(hash_array_2)/np.mean(hash_array_1)\n",
    "diff_factor_3 = np.mean(hash_array_3)/np.mean(hash_array_2)\n",
    "print(\"Factor of difficulty increase from 1 to 2: {}\".format(diff_factor_1))\n",
    "print(\"Factor of difficulty increase from 2 to 3: {}\".format(diff_factor_2))\n",
    "print(\"Factor of difficulty increase from 3 to 4: {}\".format(diff_factor_3))"
   ]
  },
  {
   "cell_type": "markdown",
   "metadata": {},
   "source": [
    "**Question 6: This one is simple**\n",
    "\n",
    "Look at the factor of difficulty increase from each level to the subsequent level, printed from the cell above.\n",
    "\n",
    "What whould the factor of difficulty increase be for each level: **Your answer Here**"
   ]
  }
 ],
 "metadata": {
  "kernelspec": {
   "display_name": "Python 3",
   "language": "python",
   "name": "python3"
  },
  "language_info": {
   "codemirror_mode": {
    "name": "ipython",
    "version": 3
   },
   "file_extension": ".py",
   "mimetype": "text/x-python",
   "name": "python",
   "nbconvert_exporter": "python",
   "pygments_lexer": "ipython3",
   "version": "3.8.10"
  }
 },
 "nbformat": 4,
 "nbformat_minor": 2
}
